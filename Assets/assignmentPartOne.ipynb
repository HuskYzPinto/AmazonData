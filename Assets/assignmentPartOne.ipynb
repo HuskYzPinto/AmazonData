{
 "metadata": {
  "language_info": {
   "codemirror_mode": {
    "name": "ipython",
    "version": 3
   },
   "file_extension": ".py",
   "mimetype": "text/x-python",
   "name": "python",
   "nbconvert_exporter": "python",
   "pygments_lexer": "ipython3",
   "version": "3.8.6"
  },
  "orig_nbformat": 2,
  "kernelspec": {
   "name": "python386jvsc74a57bd0916dbcbb3f70747c44a77c7bcd40155683ae19c65e1c03b4aa3499c5328201f1",
   "display_name": "Python 3.8.6 64-bit"
  },
  "metadata": {
   "interpreter": {
    "hash": "916dbcbb3f70747c44a77c7bcd40155683ae19c65e1c03b4aa3499c5328201f1"
   }
  }
 },
 "nbformat": 4,
 "nbformat_minor": 2,
 "cells": [
  {
   "source": [
    "# -----------------------------------------------------------Assignment Report and Code ----------------------------------------------------\n",
    "# Part 1.1: Describe the dataset\n",
    "\n",
    "#     The product category I selected is the Video Games category, with two variations of the datasets included: 5-Core reviews dataset and all reviews dataset. The 5-Core dataset contains only reviews from users and products with at least five reviews, while all reviews dataset contain every review entry, subsequently making it much more diverse. There are a total of 1324753 reviews; however, the 5-Core dataset only contains 231780 reviews. There is also a file for metadata dataset; however, that is a completely different set of information rather than a variation. Metadata contains information regarding each product. Only the 5-Core reviews dataset will be used in this analysis. This is because video games is a highly competitive market with multiple online stores available. Amazon does not have its own social platform for gaming (unlike Steam, Origin or Epic Store), making it less popular in general. However, a lot of people buy video games from Amazon when sales are happening. These customers are however unlikely to leave a review on Amazon. Nevertheless, if a user provides multiple reviews on Amazon, it is more likely that they use Amazon to buy video games in general. Therefore, I assume that their reviews should be more reliable than one-off customers. Likewise, as for video games, a lot of games are based on different platforms and people usually buy the games on their respective platforms. This means that there are much fewer copies being sold on Amazon. Products with less than five reviews are likely to have a very small share in the market and do not reflect the trend within the category.\n",
    "\n",
    "#     The reviews and metadata can be linked together using the Amazon Standard Identification Number (ASIN) unique to each product. Both variations of the reviews dataset contains reviewerID and asin as the identifier, with other attributes being reviewerName, helpful, reviewText, overall, summary, unixReviewTime, and reviewTime. The metadata uses asin as the identifier and contains description, price, imURL, related, salesRank, categories, title, and brand. The attributes I will be using from the product data are the asin, description, price, related, salesRank, title and brand, while every attribute of the review data will be used in this analysis. Only video games product will be included in the analysis, meaning that electronics and gaming equipment will be filtered out for this report."
   ],
   "cell_type": "code",
   "metadata": {},
   "execution_count": 1,
   "outputs": []
  },
  {
   "cell_type": "code",
   "execution_count": 2,
   "metadata": {},
   "outputs": [],
   "source": [
    "### Part 1.2: Describe the steps you used for data preparation and preprocessing\n",
    "# I use the code provided at the source of the dataset to extract DataFrames from the downloaded files, then save each of them into Apache Parquet files using the df.to_parquet function in pandas. The detailed implementation of this can be found in the code written later in this notebook. \n",
    "\n",
    "# As for normalisation, the category data is split into multiple columns with a boolean representing each value instead of being contained in a single object. Similarly, the salesRank data will also be unwrapped from the dictionary object into a number. The brand and title of each item will also be removed as most of them do not have a value and will not contribute to the analysis. Since this analysis is focused on video games category, only the video games sales rank will be retained. Helpful column in reviews data will also be split into upvotes and downvotes. Moreover, related items will be removed from the metadata as we are not analysing the relationship between each item. UnixReviewTime will also be excluded as users are from different parts of the world; therefore they are from different timezones and it wll be hard to determine the relationship between time of the day and the reviews.\n",
    "\n",
    "\n",
    "# For the metadata, items without a price is excluded as they tend to be some uncommon product people sell on the store. To clarify, standard products on Amazon should have their price listed, and the ones without are those sold by users. As a result, they are too inconsistent and unreliable for the analysis. Moreover, the metadata for the products not mentioned by the reviews in the 5-Core dataframe will also be filtered out of the analysis. ImageUrl will also be removed as the column is not required for the analysis. Reviewer Names will be excluded from the analysis as reviewerID will be used to identify each reviewer instead. Console games will be excluded as the market's growth and evolution is completely different from that of PC games."
   ]
  },
  {
   "cell_type": "code",
   "execution_count": 3,
   "metadata": {},
   "outputs": [],
   "source": [
    "### Part 1.3: Hypothesis\n",
    "# Over the course of 1996 - 2014, the video games industry has greatly evolved and there has been a clear shift from physical copies of the games into digital ones; therefore, the hypothesis for this analysis is that the popularity and sample size for digital product reviews should increase over time. Additionally, sales number should also increase greatly during seasonal sales; this should be reflected in the number of reviews over specific periods."
   ]
  },
  {
   "cell_type": "code",
   "execution_count": 4,
   "metadata": {},
   "outputs": [],
   "source": [
    "# Import libraries and define parse functions for the dataset\n",
    "import pandas as pd\n",
    "import gzip\n",
    "import sklearn\n",
    "\n",
    "def parse(path):\n",
    "    g = gzip.open(path, 'rb')\n",
    "    for l in g:\n",
    "        yield eval(l)\n",
    "\n",
    "def getDF(path):\n",
    "    i = 0 \n",
    "    df = {}\n",
    "    for d in parse(path):\n",
    "        df[i] = d\n",
    "        i += 1\n",
    "    return pd.DataFrame.from_dict(df, orient ='index')"
   ]
  },
  {
   "cell_type": "code",
   "execution_count": 5,
   "metadata": {},
   "outputs": [],
   "source": [
    "#generate DataFrame from 5-core reviews and save to parquet\n",
    "# fiveCoreDF = getDF('reviews_Video_Games_5.json.gz')\n",
    "# fiveCoreDF.to_parquet('fiveCore.parquet.gzip', compression='gzip')\n"
   ]
  },
  {
   "cell_type": "code",
   "execution_count": 6,
   "metadata": {},
   "outputs": [],
   "source": [
    "#generate DataFrame from products metadata and save to parquet\n",
    "# meta = getDF('meta_Video_Games.json.gz')\n",
    "# meta.to_parquet('metadata.parquet.gzip', compression='gzip')"
   ]
  },
  {
   "cell_type": "code",
   "execution_count": 7,
   "metadata": {},
   "outputs": [],
   "source": [
    "# #generate DataFrame from all category reviews and save to parquet\n",
    "# allDF = getDF('reviews_Video_Games.json.gz')\n",
    "# allDF.to_parquet('all.parquet.gzip', compression='gzip')\n",
    "# This dataset is excluded from the analysis for the reasons stated at the beginning"
   ]
  },
  {
   "cell_type": "code",
   "execution_count": 8,
   "metadata": {},
   "outputs": [],
   "source": [
    "#Read metadata from parquet and store it in a variable\n",
    "OG_metadata = pd.read_parquet('metadata.parquet.gzip')"
   ]
  },
  {
   "cell_type": "code",
   "execution_count": 9,
   "metadata": {},
   "outputs": [],
   "source": [
    "# Read 5-Core reviews data from parquet and store it in a variable\n",
    "OG_reviews= pd.read_parquet('fiveCore.parquet.gzip')"
   ]
  },
  {
   "source": [
    "#Data Cleaning: Remove items without a price data from the metadata\n",
    "OG_metadata = OG_metadata[OG_metadata.price.notnull()]"
   ],
   "cell_type": "code",
   "metadata": {},
   "execution_count": 10,
   "outputs": []
  },
  {
   "source": [
    "# Check asin appearing in 5-Core reviews DataFrame\n",
    "reviewedGames = OG_reviews.groupby(\"asin\").groups.keys()\n",
    "\n",
    "# Remove items not appearing in the reviews from the metadata\n",
    "metadata = OG_metadata[OG_metadata.asin.isin(reviewedGames)].reset_index()"
   ],
   "cell_type": "code",
   "metadata": {
    "tags": []
   },
   "execution_count": 11,
   "outputs": []
  },
  {
   "source": [
    "#make ASIN index for metadata, remove 'index' column\n",
    "\n",
    "metadata.set_index('asin', inplace = True)\n",
    "metadata.drop(axis = 1, labels = 'index', inplace = True)"
   ],
   "cell_type": "code",
   "metadata": {},
   "execution_count": 12,
   "outputs": []
  },
  {
   "source": [
    "#remove imageurl from metadata\n",
    "metadata.drop(axis = 1, labels = 'imUrl', inplace = True)\n",
    "#remove title from metadata\n",
    "metadata.drop(axis = 1, labels = 'title', inplace = True)\n",
    "#remove brand from metadata\n",
    "metadata.drop(axis = 1, labels = 'brand' , inplace = True)\n",
    "#remove related items from metadata\n",
    "metadata.drop(axis = 1, labels = 'related', inplace = True)"
   ],
   "cell_type": "code",
   "metadata": {},
   "execution_count": 13,
   "outputs": []
  },
  {
   "cell_type": "code",
   "execution_count": 14,
   "metadata": {},
   "outputs": [],
   "source": [
    "# metadata.replace(metadata[\"categories\"], metadata[\"categories\"])\n",
    "def unwrapCategory(data):\n",
    "    return data[0]\n",
    "\n",
    "metadata[\"categories\"] = metadata[\"categories\"].apply(unwrapCategory)"
   ]
  },
  {
   "source": [
    "#Unwrap metadata saleRank, retrieving only Video Games rank\n",
    "temp = metadata[\"salesRank\"].apply(pd.Series)[\"Video Games\"]\n",
    "#add unwrapped values to the original dataframe\n",
    "metadata[\"rank\"] = temp\n",
    "####### Some rows do not contain Video Games Rank, it should be safe to assume that they are video games related but not actually video games. Therefore, they will be removed from the analysis\n",
    "\n",
    "metadata = metadata.dropna(axis = 'index', how = 'any', subset = ['rank'])\n",
    "\n"
   ],
   "cell_type": "code",
   "metadata": {
    "tags": []
   },
   "execution_count": 15,
   "outputs": []
  },
  {
   "source": [
    "#change metadata.rank to integer\n",
    "\n",
    "metadata[\"rank\"] = metadata[\"rank\"].apply(lambda x: int(x))\n",
    "\n",
    "#remove salesRank from the dataframe\n",
    "\n",
    "metadata.drop(axis = 1, labels = 'salesRank', inplace = True)\n"
   ],
   "cell_type": "code",
   "metadata": {},
   "execution_count": 16,
   "outputs": []
  },
  {
   "cell_type": "code",
   "execution_count": null,
   "metadata": {},
   "outputs": [],
   "source": []
  },
  {
   "cell_type": "code",
   "execution_count": 17,
   "metadata": {},
   "outputs": [],
   "source": [
    "#Delete ReviewerName from reviews\n",
    "OG_reviews.drop(axis = 1, labels = 'reviewerName', inplace = True)"
   ]
  },
  {
   "cell_type": "code",
   "execution_count": 18,
   "metadata": {},
   "outputs": [],
   "source": [
    "#Unwrap Helpful into Upvotes and Downvotes\n",
    "helpfulDF = pd.DataFrame(OG_reviews[\"helpful\"].to_list(), columns = ['upvotes', 'downvotes'])\n",
    "\n",
    "#join reviews with unwrapped helpful stats, dropping helpful column\n",
    "reviews = OG_reviews.join(helpfulDF)\n",
    "reviews.drop(axis = 1, labels = 'helpful', inplace = True)\n",
    "\n",
    "\n"
   ]
  },
  {
   "cell_type": "code",
   "execution_count": 19,
   "metadata": {},
   "outputs": [],
   "source": [
    "def getCategories(data):\n",
    "    newItem = dict()\n",
    "    for cat in data:\n",
    "        if cat == 'PC':\n",
    "            newItem['PC'] = True\n",
    "        if cat == 'Games':\n",
    "            newItem['Games'] = True\n",
    "        if cat == 'Mac':\n",
    "            newItem['Mac'] = True\n",
    "        if cat == 'Software':\n",
    "            newItem['Software'] = True\n",
    "        if cat == 'Digital Game':\n",
    "            newItem['Digital Game'] = True\n",
    "        if cat == 'PC Game Downloads':\n",
    "            newItem['PC Game Downloads'] = True\n",
    "        if cat == 'Linux Games':\n",
    "            newItem['Linux Games'] = True\n",
    "        if cat == 'Mac Game Downloads':\n",
    "            newItem['Mac Game Downloads'] = True\n",
    "        if cat == 'MMO & Free-to-Play Games':\n",
    "            newItem['MMO & Free-to-Play Games'] = True\n",
    "    return newItem\n",
    "\n",
    "#check unique types in metadata\n",
    "test = metadata[\"categories\"].explode()\n",
    "categoriesDF = pd.DataFrame(columns=[\"asin\", \"PC\", \"Games\", \"Mac\", \"Software\", \"Digital Game\", \"PC Game Downloads\", \"Digital Games & DLC\", \"Linux Games\", \"Mac Game Downloads\", \"MMO & Free-to-Play Games\"])\n",
    "\n"
   ]
  },
  {
   "cell_type": "code",
   "execution_count": 20,
   "metadata": {
    "tags": []
   },
   "outputs": [],
   "source": [
    "#unwrap selected categories, reset the index, then turn into a dataframe\n",
    "test = test.groupby([\"asin\"]).apply(getCategories).reset_index()\n",
    "test = pd.DataFrame(test)"
   ]
  },
  {
   "cell_type": "code",
   "execution_count": 21,
   "metadata": {},
   "outputs": [],
   "source": [
    "#Transform categories data into a pivot table then unwrap\n",
    "test = pd.pivot_table(test, values = [\"categories\"], index = ['asin'], columns = ['level_1'], aggfunc = lambda x: x)\n",
    "test = test['categories']"
   ]
  },
  {
   "cell_type": "code",
   "execution_count": 22,
   "metadata": {},
   "outputs": [],
   "source": [
    "#merge the categories data back to original metadata. \n",
    "metadata = metadata.join(test)\n",
    "#delete categories column\n",
    "metadata.drop(axis = 1, labels = ['categories'], inplace = True)"
   ]
  },
  {
   "cell_type": "code",
   "execution_count": 23,
   "metadata": {},
   "outputs": [],
   "source": [
    "#remove non-video games items by checking if they do not belong in any of the categories (all categories value = NaN)\n",
    "\n",
    "metadata.dropna(axis = 0, subset = [\"Games\", \"Linux Games\", \"MMO & Free-to-Play Games\", \"Mac\", \"Mac Game Downloads\", \"PC\", \"PC Game Downloads\", \"Software\"], how = \"all\", inplace = True)"
   ]
  },
  {
   "cell_type": "code",
   "execution_count": 24,
   "metadata": {},
   "outputs": [],
   "source": [
    "#convert reviewTime to datetime, dropping unixReviewTime\n",
    "reviews['reviewTime'] = pd.to_datetime(reviews['reviewTime'], format = '%m %d, %Y')\n",
    "reviews.drop( axis = 1, labels = \"unixReviewTime\", inplace = True)"
   ]
  },
  {
   "cell_type": "code",
   "execution_count": 25,
   "metadata": {},
   "outputs": [
    {
     "output_type": "execute_result",
     "data": {
      "text/plain": [
       "                                                  description   price   rank  \\\n",
       "asin                                                                           \n",
       "0700099867  Dirt 3 is a popular rally racing game for Play...  246.63   6629   \n",
       "8176503290  Tom Clancy's H.A.W.X. 2 plunges fans into an e...   49.99  18169   \n",
       "907843905X  Ship Simulator 2008 puts players at the helm o...   10.00  15480   \n",
       "B000003SQQ  The old characters from the original tongue-in...    3.99  20150   \n",
       "B000006OVE  In most role-playing games, the player finds h...   19.99  11098   \n",
       "B000006OWR            PLAY LIKE NEW..TEEN...ANIMATED VIOLENCE   24.99  16608   \n",
       "B000006P0M           Used In Good Condition and Working Order  159.44  24652   \n",
       "B000006P0J  This is the one that's got the press salivatin...   41.22   7902   \n",
       "B000006OVI  What fighting game fan could pass up this perf...   17.98  30497   \n",
       "B000006P0K  They're all here Heihachi Paul Phoenix King. P...  125.07  14975   \n",
       "\n",
       "           Games Linux Games MMO & Free-to-Play Games  Mac Mac Game Downloads  \\\n",
       "asin                                                                            \n",
       "0700099867  True         NaN                      NaN  NaN                NaN   \n",
       "8176503290  True         NaN                      NaN  NaN                NaN   \n",
       "907843905X  True         NaN                      NaN  NaN                NaN   \n",
       "B000003SQQ  True         NaN                      NaN  NaN                NaN   \n",
       "B000006OVE  True         NaN                      NaN  NaN                NaN   \n",
       "B000006OWR  True         NaN                      NaN  NaN                NaN   \n",
       "B000006P0M  True         NaN                      NaN  NaN                NaN   \n",
       "B000006P0J  True         NaN                      NaN  NaN                NaN   \n",
       "B000006OVI  True         NaN                      NaN  NaN                NaN   \n",
       "B000006P0K  True         NaN                      NaN  NaN                NaN   \n",
       "\n",
       "              PC PC Game Downloads Software  \n",
       "asin                                         \n",
       "0700099867  True               NaN      NaN  \n",
       "8176503290  True               NaN      NaN  \n",
       "907843905X  True               NaN      NaN  \n",
       "B000003SQQ   NaN               NaN      NaN  \n",
       "B000006OVE   NaN               NaN      NaN  \n",
       "B000006OWR   NaN               NaN      NaN  \n",
       "B000006P0M   NaN               NaN      NaN  \n",
       "B000006P0J   NaN               NaN      NaN  \n",
       "B000006OVI   NaN               NaN      NaN  \n",
       "B000006P0K   NaN               NaN      NaN  "
      ],
      "text/html": "<div>\n<style scoped>\n    .dataframe tbody tr th:only-of-type {\n        vertical-align: middle;\n    }\n\n    .dataframe tbody tr th {\n        vertical-align: top;\n    }\n\n    .dataframe thead th {\n        text-align: right;\n    }\n</style>\n<table border=\"1\" class=\"dataframe\">\n  <thead>\n    <tr style=\"text-align: right;\">\n      <th></th>\n      <th>description</th>\n      <th>price</th>\n      <th>rank</th>\n      <th>Games</th>\n      <th>Linux Games</th>\n      <th>MMO &amp; Free-to-Play Games</th>\n      <th>Mac</th>\n      <th>Mac Game Downloads</th>\n      <th>PC</th>\n      <th>PC Game Downloads</th>\n      <th>Software</th>\n    </tr>\n    <tr>\n      <th>asin</th>\n      <th></th>\n      <th></th>\n      <th></th>\n      <th></th>\n      <th></th>\n      <th></th>\n      <th></th>\n      <th></th>\n      <th></th>\n      <th></th>\n      <th></th>\n    </tr>\n  </thead>\n  <tbody>\n    <tr>\n      <th>0700099867</th>\n      <td>Dirt 3 is a popular rally racing game for Play...</td>\n      <td>246.63</td>\n      <td>6629</td>\n      <td>True</td>\n      <td>NaN</td>\n      <td>NaN</td>\n      <td>NaN</td>\n      <td>NaN</td>\n      <td>True</td>\n      <td>NaN</td>\n      <td>NaN</td>\n    </tr>\n    <tr>\n      <th>8176503290</th>\n      <td>Tom Clancy's H.A.W.X. 2 plunges fans into an e...</td>\n      <td>49.99</td>\n      <td>18169</td>\n      <td>True</td>\n      <td>NaN</td>\n      <td>NaN</td>\n      <td>NaN</td>\n      <td>NaN</td>\n      <td>True</td>\n      <td>NaN</td>\n      <td>NaN</td>\n    </tr>\n    <tr>\n      <th>907843905X</th>\n      <td>Ship Simulator 2008 puts players at the helm o...</td>\n      <td>10.00</td>\n      <td>15480</td>\n      <td>True</td>\n      <td>NaN</td>\n      <td>NaN</td>\n      <td>NaN</td>\n      <td>NaN</td>\n      <td>True</td>\n      <td>NaN</td>\n      <td>NaN</td>\n    </tr>\n    <tr>\n      <th>B000003SQQ</th>\n      <td>The old characters from the original tongue-in...</td>\n      <td>3.99</td>\n      <td>20150</td>\n      <td>True</td>\n      <td>NaN</td>\n      <td>NaN</td>\n      <td>NaN</td>\n      <td>NaN</td>\n      <td>NaN</td>\n      <td>NaN</td>\n      <td>NaN</td>\n    </tr>\n    <tr>\n      <th>B000006OVE</th>\n      <td>In most role-playing games, the player finds h...</td>\n      <td>19.99</td>\n      <td>11098</td>\n      <td>True</td>\n      <td>NaN</td>\n      <td>NaN</td>\n      <td>NaN</td>\n      <td>NaN</td>\n      <td>NaN</td>\n      <td>NaN</td>\n      <td>NaN</td>\n    </tr>\n    <tr>\n      <th>B000006OWR</th>\n      <td>PLAY LIKE NEW..TEEN...ANIMATED VIOLENCE</td>\n      <td>24.99</td>\n      <td>16608</td>\n      <td>True</td>\n      <td>NaN</td>\n      <td>NaN</td>\n      <td>NaN</td>\n      <td>NaN</td>\n      <td>NaN</td>\n      <td>NaN</td>\n      <td>NaN</td>\n    </tr>\n    <tr>\n      <th>B000006P0M</th>\n      <td>Used In Good Condition and Working Order</td>\n      <td>159.44</td>\n      <td>24652</td>\n      <td>True</td>\n      <td>NaN</td>\n      <td>NaN</td>\n      <td>NaN</td>\n      <td>NaN</td>\n      <td>NaN</td>\n      <td>NaN</td>\n      <td>NaN</td>\n    </tr>\n    <tr>\n      <th>B000006P0J</th>\n      <td>This is the one that's got the press salivatin...</td>\n      <td>41.22</td>\n      <td>7902</td>\n      <td>True</td>\n      <td>NaN</td>\n      <td>NaN</td>\n      <td>NaN</td>\n      <td>NaN</td>\n      <td>NaN</td>\n      <td>NaN</td>\n      <td>NaN</td>\n    </tr>\n    <tr>\n      <th>B000006OVI</th>\n      <td>What fighting game fan could pass up this perf...</td>\n      <td>17.98</td>\n      <td>30497</td>\n      <td>True</td>\n      <td>NaN</td>\n      <td>NaN</td>\n      <td>NaN</td>\n      <td>NaN</td>\n      <td>NaN</td>\n      <td>NaN</td>\n      <td>NaN</td>\n    </tr>\n    <tr>\n      <th>B000006P0K</th>\n      <td>They're all here Heihachi Paul Phoenix King. P...</td>\n      <td>125.07</td>\n      <td>14975</td>\n      <td>True</td>\n      <td>NaN</td>\n      <td>NaN</td>\n      <td>NaN</td>\n      <td>NaN</td>\n      <td>NaN</td>\n      <td>NaN</td>\n      <td>NaN</td>\n    </tr>\n  </tbody>\n</table>\n</div>"
     },
     "metadata": {},
     "execution_count": 25
    }
   ],
   "source": [
    "metadata.head(10)"
   ]
  },
  {
   "cell_type": "code",
   "execution_count": 26,
   "metadata": {},
   "outputs": [
    {
     "output_type": "execute_result",
     "data": {
      "text/plain": [
       "       reviewerID        asin  \\\n",
       "0  A2HD75EMZR8QLN  0700099867   \n",
       "1  A3UR8NLLY1ZHCX  0700099867   \n",
       "2  A1INA0F5CWW3J4  0700099867   \n",
       "3  A1DLMTOTHQ4AST  0700099867   \n",
       "4  A361M14PU2GUEG  0700099867   \n",
       "5  A2UTRVO4FDCBH6  0700099867   \n",
       "6   AN3YYDZAS3O1Y  0700099867   \n",
       "7   AQTC623NCESZW  0700099867   \n",
       "8  A1QJJU33VNC4S7  0700099867   \n",
       "9  A2JLT2WY0F2HVI  0700099867   \n",
       "\n",
       "                                          reviewText  overall  \\\n",
       "0  Installing the game was a struggle (because of...      1.0   \n",
       "1  If you like rally cars get this game you will ...      4.0   \n",
       "2  1st shipment received a book instead of the ga...      1.0   \n",
       "3  I got this version instead of the PS3 version,...      3.0   \n",
       "4  I had Dirt 2 on Xbox 360 and it was an okay ga...      4.0   \n",
       "5  Overall this is a well done racing game, with ...      4.0   \n",
       "6  Loved playing Dirt 2 and I thought the graphic...      5.0   \n",
       "7  I can't tell you what a piece of dog**** this ...      1.0   \n",
       "8  I initially gave this one star because it was ...      4.0   \n",
       "9  I still haven't figured this one out. Did ever...      2.0   \n",
       "\n",
       "                                             summary reviewTime  upvotes  \\\n",
       "0           Pay to unlock content? I don't think so. 2012-07-09        8   \n",
       "1                                    Good rally game 2013-06-30        0   \n",
       "2                                          Wrong key 2014-06-28        0   \n",
       "3    awesome game, if it did not crash frequently !! 2011-09-14        7   \n",
       "4                                             DIRT 3 2011-06-14        2   \n",
       "5  Good racing game, terrible Windows Live Requir... 2013-05-11        0   \n",
       "6        A step up from Dirt 2 and that is terrific! 2011-08-14       11   \n",
       "7              Crash 3 is correct name AKA Microsoft 2012-11-24        1   \n",
       "8  A great game ruined by Microsoft's account man... 2012-11-14        0   \n",
       "9                      Couldn't get this one to work 2014-02-08        1   \n",
       "\n",
       "   downvotes  \n",
       "0         12  \n",
       "1          0  \n",
       "2          0  \n",
       "3         10  \n",
       "4          2  \n",
       "5          0  \n",
       "6         13  \n",
       "7          4  \n",
       "8          1  \n",
       "9          1  "
      ],
      "text/html": "<div>\n<style scoped>\n    .dataframe tbody tr th:only-of-type {\n        vertical-align: middle;\n    }\n\n    .dataframe tbody tr th {\n        vertical-align: top;\n    }\n\n    .dataframe thead th {\n        text-align: right;\n    }\n</style>\n<table border=\"1\" class=\"dataframe\">\n  <thead>\n    <tr style=\"text-align: right;\">\n      <th></th>\n      <th>reviewerID</th>\n      <th>asin</th>\n      <th>reviewText</th>\n      <th>overall</th>\n      <th>summary</th>\n      <th>reviewTime</th>\n      <th>upvotes</th>\n      <th>downvotes</th>\n    </tr>\n  </thead>\n  <tbody>\n    <tr>\n      <th>0</th>\n      <td>A2HD75EMZR8QLN</td>\n      <td>0700099867</td>\n      <td>Installing the game was a struggle (because of...</td>\n      <td>1.0</td>\n      <td>Pay to unlock content? I don't think so.</td>\n      <td>2012-07-09</td>\n      <td>8</td>\n      <td>12</td>\n    </tr>\n    <tr>\n      <th>1</th>\n      <td>A3UR8NLLY1ZHCX</td>\n      <td>0700099867</td>\n      <td>If you like rally cars get this game you will ...</td>\n      <td>4.0</td>\n      <td>Good rally game</td>\n      <td>2013-06-30</td>\n      <td>0</td>\n      <td>0</td>\n    </tr>\n    <tr>\n      <th>2</th>\n      <td>A1INA0F5CWW3J4</td>\n      <td>0700099867</td>\n      <td>1st shipment received a book instead of the ga...</td>\n      <td>1.0</td>\n      <td>Wrong key</td>\n      <td>2014-06-28</td>\n      <td>0</td>\n      <td>0</td>\n    </tr>\n    <tr>\n      <th>3</th>\n      <td>A1DLMTOTHQ4AST</td>\n      <td>0700099867</td>\n      <td>I got this version instead of the PS3 version,...</td>\n      <td>3.0</td>\n      <td>awesome game, if it did not crash frequently !!</td>\n      <td>2011-09-14</td>\n      <td>7</td>\n      <td>10</td>\n    </tr>\n    <tr>\n      <th>4</th>\n      <td>A361M14PU2GUEG</td>\n      <td>0700099867</td>\n      <td>I had Dirt 2 on Xbox 360 and it was an okay ga...</td>\n      <td>4.0</td>\n      <td>DIRT 3</td>\n      <td>2011-06-14</td>\n      <td>2</td>\n      <td>2</td>\n    </tr>\n    <tr>\n      <th>5</th>\n      <td>A2UTRVO4FDCBH6</td>\n      <td>0700099867</td>\n      <td>Overall this is a well done racing game, with ...</td>\n      <td>4.0</td>\n      <td>Good racing game, terrible Windows Live Requir...</td>\n      <td>2013-05-11</td>\n      <td>0</td>\n      <td>0</td>\n    </tr>\n    <tr>\n      <th>6</th>\n      <td>AN3YYDZAS3O1Y</td>\n      <td>0700099867</td>\n      <td>Loved playing Dirt 2 and I thought the graphic...</td>\n      <td>5.0</td>\n      <td>A step up from Dirt 2 and that is terrific!</td>\n      <td>2011-08-14</td>\n      <td>11</td>\n      <td>13</td>\n    </tr>\n    <tr>\n      <th>7</th>\n      <td>AQTC623NCESZW</td>\n      <td>0700099867</td>\n      <td>I can't tell you what a piece of dog**** this ...</td>\n      <td>1.0</td>\n      <td>Crash 3 is correct name AKA Microsoft</td>\n      <td>2012-11-24</td>\n      <td>1</td>\n      <td>4</td>\n    </tr>\n    <tr>\n      <th>8</th>\n      <td>A1QJJU33VNC4S7</td>\n      <td>0700099867</td>\n      <td>I initially gave this one star because it was ...</td>\n      <td>4.0</td>\n      <td>A great game ruined by Microsoft's account man...</td>\n      <td>2012-11-14</td>\n      <td>0</td>\n      <td>1</td>\n    </tr>\n    <tr>\n      <th>9</th>\n      <td>A2JLT2WY0F2HVI</td>\n      <td>0700099867</td>\n      <td>I still haven't figured this one out. Did ever...</td>\n      <td>2.0</td>\n      <td>Couldn't get this one to work</td>\n      <td>2014-02-08</td>\n      <td>1</td>\n      <td>1</td>\n    </tr>\n  </tbody>\n</table>\n</div>"
     },
     "metadata": {},
     "execution_count": 26
    }
   ],
   "source": [
    "reviews.head(10)"
   ]
  },
  {
   "cell_type": "code",
   "execution_count": null,
   "metadata": {},
   "outputs": [],
   "source": [
    "### Part 2: Advanced Analysis\n",
    "\n",
    "1. Study the reviews"
   ]
  },
  {
   "cell_type": "code",
   "execution_count": null,
   "metadata": {},
   "outputs": [],
   "source": [
    "### Part 3: Evaluation\n",
    "#3.1: What are the findings of your data analytics?\n",
    "#3.2: What actions for improving the products do you suggest based on your findings?\n",
    "#3.3: How could you refine your data analytics?\n",
    "\n",
    "\n",
    "#3.4: Are there any implications for consumers/users of the products based on the findings you obtained or the improvements you plan to make?\n",
    "\n",
    "\n",
    "\n",
    "## The URL to the web page : https://"
   ]
  }
 ]
}