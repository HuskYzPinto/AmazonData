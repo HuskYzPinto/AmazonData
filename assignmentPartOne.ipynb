{
 "metadata": {
  "language_info": {
   "codemirror_mode": {
    "name": "ipython",
    "version": 3
   },
   "file_extension": ".py",
   "mimetype": "text/x-python",
   "name": "python",
   "nbconvert_exporter": "python",
   "pygments_lexer": "ipython3",
   "version": "3.8.6"
  },
  "orig_nbformat": 2,
  "kernelspec": {
   "name": "python386jvsc74a57bd0916dbcbb3f70747c44a77c7bcd40155683ae19c65e1c03b4aa3499c5328201f1",
   "display_name": "Python 3.8.6 64-bit"
  },
  "metadata": {
   "interpreter": {
    "hash": "916dbcbb3f70747c44a77c7bcd40155683ae19c65e1c03b4aa3499c5328201f1"
   }
  }
 },
 "nbformat": 4,
 "nbformat_minor": 2,
 "cells": [
  {
   "cell_type": "code",
   "execution_count": null,
   "metadata": {},
   "outputs": [],
   "source": [
    "# --------------------------------------Assignment Report and Code ----------------------------------------------------\n",
    "### Part 1.1: Describe the dataset\n",
    "# The product category I selected is the Video Games category, with two variations of the datasets included: 5-Core reviews dataset and all reviews dataset. The 5-Core dataset contains only reviews from users and products with at least five reviews, while all reviews dataset contain every review entry, subsequently making it much more diverse. There are a total of 1324753 reviews; however, the 5-Core dataset only contains 231780 reviews. There is also a file for metadata dataset; however, that is a completely different set of information rather than a variation. Metadata contains information regarding each product. Only the 5-Core reviews dataset will be used in this analysis. This is because video games is a highly competitive market with multiple online stores available. Amazon does not have its own social platform for gaming (unlike Steam, Origin or Epic Store), making it less popular in general. However, a lot of people buy video games from Amazon when sales are happening. These customers are however unlikely to leave a review on Amazon. Nevertheless, if a user provides multiple reviews on Amazon, it is more likely that they use Amazon to buy video games in general. Therefore, I assume that their reviews will generally be more reliable than one-off customers. Likewise, as for video games, a lot of games are based on different platforms and people usually buy the games on their respective platforms. This means that there are much fewer copies being sold on Amazon. Products with less than five reviews are likely to have a very small share in the market and do not reflect the trend within the category.\n",
    "\n",
    "# The reviews and metadata can be linked together using the Amazon Standard Identification Number (ASIN) unique to each product. \n",
    "# Both variations of the reviews dataset contains reviewerID and asin as the identifier, with other attributes being reviewerName, helpful, reviewText, overall, summary, unixReviewTime, and reviewTime. The metadata uses asin as the identifier and contains description, price, imURL, related, salesRank, categories, title, and brand. The attributes I will be using from the product data are the asin, description, price, related, salesRank, title and brand, while every attribute of the review data will be used in this analysis. Only video games product will be included in the analysis, meaning that electronics and gaming equipment will be filtered out for this report."
   ]
  },
  {
   "cell_type": "code",
   "execution_count": null,
   "metadata": {},
   "outputs": [],
   "source": [
    "### Part 1.2: Describe the steps you used for data preparation and preprocessing\n",
    "I use the code provided at the source of the dataset to extract DataFrames from the downloaded files, then save each of them into Apache Parquet files using the df.to_parquet function in pandas. The detailed implementation of this can be found in the code written later in this notebook. "
   ]
  },
  {
   "cell_type": "code",
   "execution_count": 1,
   "metadata": {},
   "outputs": [],
   "source": [
    "# Import and define parse functions for the dataset\n",
    "import pandas as pd\n",
    "import gzip\n",
    "\n",
    "def parse(path):\n",
    "    g = gzip.open(path, 'rb')\n",
    "    for l in g:\n",
    "        yield eval(l)\n",
    "\n",
    "def getDF(path):\n",
    "    i = 0 \n",
    "    df = {}\n",
    "    for d in parse(path):\n",
    "        df[i] = d\n",
    "        i += 1\n",
    "    return pd.DataFrame.from_dict(df, orient ='index')"
   ]
  },
  {
   "cell_type": "code",
   "execution_count": 24,
   "metadata": {},
   "outputs": [],
   "source": [
    "#generate DataFrame from 5-core reviews and save to parquet\n",
    "fiveCoreDF = getDF('reviews_Video_Games_5.json.gz')\n",
    "fiveCoreDF.to_parquet('fiveCore.parquet.gzip', compression='gzip')\n"
   ]
  },
  {
   "cell_type": "code",
   "execution_count": 25,
   "metadata": {},
   "outputs": [],
   "source": [
    "#generate DataFrame from products metadata and save to parquet\n",
    "meta = getDF('meta_Video_Games.json.gz')\n",
    "meta.to_parquet('metadata.parquet.gzip', compression='gzip')"
   ]
  },
  {
   "cell_type": "code",
   "execution_count": 26,
   "metadata": {},
   "outputs": [],
   "source": [
    "#generate DataFrame from all category reviews and save to parquet\n",
    "allDF = getDF('reviews_Video_Games.json.gz')\n",
    "allDF.to_parquet('all.parquet.gzip', compression='gzip')"
   ]
  },
  {
   "cell_type": "code",
   "execution_count": 15,
   "metadata": {},
   "outputs": [
    {
     "output_type": "execute_result",
     "data": {
      "text/plain": [
       "         asin                                        description  price  \\\n",
       "0  0078764343                                  Brand new sealed!  37.98   \n",
       "1  043933702X  In Stock NOW.  Eligible for FREE Super Saving ...  23.50   \n",
       "2  0439339987  Grandma Groupers kelp seeds are missing and wi...   8.95   \n",
       "3  0439342260  This software is BRAND NEW. Packaging may diff...    NaN   \n",
       "4  0439339960               a scholastic clubs fairs cd rom game    NaN   \n",
       "5  0439374391  CD-ROM: Thomas & Friends: The Great Festival A...  20.00   \n",
       "6  0439394422  Product that encourages families to learn, exp...  12.96   \n",
       "7  043940133X  Your ship has crash-landed on the planet Tatoo...  30.00   \n",
       "8  0439573947                      3 Great games in one box set!  10.79   \n",
       "9  0439591295                                    cartoon network    NaN   \n",
       "\n",
       "                                               imUrl  \\\n",
       "0  http://ecx.images-amazon.com/images/I/513h6dPb...   \n",
       "1  http://ecx.images-amazon.com/images/I/61KKRndV...   \n",
       "2  http://ecx.images-amazon.com/images/I/416QZg89...   \n",
       "3  http://ecx.images-amazon.com/images/I/61Wvu-Uj...   \n",
       "4  http://ecx.images-amazon.com/images/I/51k3oRCF...   \n",
       "5  http://ecx.images-amazon.com/images/I/21MTRNJY...   \n",
       "6  http://ecx.images-amazon.com/images/I/51Zx2bIw...   \n",
       "7  http://ecx.images-amazon.com/images/I/51Gh39kq...   \n",
       "8  http://ecx.images-amazon.com/images/I/514%2B24...   \n",
       "9  http://ecx.images-amazon.com/images/I/51XQ-nAM...   \n",
       "\n",
       "                                             related  \\\n",
       "0  {'also_bought': ['B000TI836G', 'B003Q53VZC', '...   \n",
       "1  {'also_bought': None, 'also_viewed': ['B000067...   \n",
       "2  {'also_bought': ['B000314VVU', 'B000PXUOTE', '...   \n",
       "3  {'also_bought': None, 'also_viewed': ['0439343...   \n",
       "4  {'also_bought': None, 'also_viewed': ['B00028D...   \n",
       "5  {'also_bought': None, 'also_viewed': ['B00005Y...   \n",
       "6  {'also_bought': ['B0002667BI', 'B00005JKTY', '...   \n",
       "7  {'also_bought': None, 'also_viewed': ['0545077...   \n",
       "8  {'also_bought': ['B000RLM19A', 'B003R79HFW', '...   \n",
       "9                                               None   \n",
       "\n",
       "                                           salesRank  \\\n",
       "0  {'Arts, Crafts & Sewing': None, 'Beauty': None...   \n",
       "1  {'Arts, Crafts & Sewing': None, 'Beauty': None...   \n",
       "2  {'Arts, Crafts & Sewing': None, 'Beauty': None...   \n",
       "3  {'Arts, Crafts & Sewing': None, 'Beauty': None...   \n",
       "4  {'Arts, Crafts & Sewing': None, 'Beauty': None...   \n",
       "5  {'Arts, Crafts & Sewing': None, 'Beauty': None...   \n",
       "6  {'Arts, Crafts & Sewing': None, 'Beauty': None...   \n",
       "7  {'Arts, Crafts & Sewing': None, 'Beauty': None...   \n",
       "8  {'Arts, Crafts & Sewing': None, 'Beauty': None...   \n",
       "9  {'Arts, Crafts & Sewing': None, 'Beauty': None...   \n",
       "\n",
       "                                          categories title brand  \n",
       "0                   [[Video Games, Xbox 360, Games]]  None  None  \n",
       "1                         [[Video Games, PC, Games]]  None  None  \n",
       "2                         [[Video Games, PC, Games]]  None  None  \n",
       "3                         [[Video Games, PC, Games]]  None  None  \n",
       "4                         [[Video Games, PC, Games]]  None  None  \n",
       "5                         [[Video Games, PC, Games]]  None  None  \n",
       "6  [[Video Games, Mac, Games], [Video Games, PC, ...  None  None  \n",
       "7  [[Video Games, Mac, Games], [Video Games, PC, ...  None  None  \n",
       "8                         [[Video Games, PC, Games]]  None  None  \n",
       "9                         [[Video Games, PC, Games]]  None  None  "
      ],
      "text/html": "<div>\n<style scoped>\n    .dataframe tbody tr th:only-of-type {\n        vertical-align: middle;\n    }\n\n    .dataframe tbody tr th {\n        vertical-align: top;\n    }\n\n    .dataframe thead th {\n        text-align: right;\n    }\n</style>\n<table border=\"1\" class=\"dataframe\">\n  <thead>\n    <tr style=\"text-align: right;\">\n      <th></th>\n      <th>asin</th>\n      <th>description</th>\n      <th>price</th>\n      <th>imUrl</th>\n      <th>related</th>\n      <th>salesRank</th>\n      <th>categories</th>\n      <th>title</th>\n      <th>brand</th>\n    </tr>\n  </thead>\n  <tbody>\n    <tr>\n      <th>0</th>\n      <td>0078764343</td>\n      <td>Brand new sealed!</td>\n      <td>37.98</td>\n      <td>http://ecx.images-amazon.com/images/I/513h6dPb...</td>\n      <td>{'also_bought': ['B000TI836G', 'B003Q53VZC', '...</td>\n      <td>{'Arts, Crafts &amp; Sewing': None, 'Beauty': None...</td>\n      <td>[[Video Games, Xbox 360, Games]]</td>\n      <td>None</td>\n      <td>None</td>\n    </tr>\n    <tr>\n      <th>1</th>\n      <td>043933702X</td>\n      <td>In Stock NOW.  Eligible for FREE Super Saving ...</td>\n      <td>23.50</td>\n      <td>http://ecx.images-amazon.com/images/I/61KKRndV...</td>\n      <td>{'also_bought': None, 'also_viewed': ['B000067...</td>\n      <td>{'Arts, Crafts &amp; Sewing': None, 'Beauty': None...</td>\n      <td>[[Video Games, PC, Games]]</td>\n      <td>None</td>\n      <td>None</td>\n    </tr>\n    <tr>\n      <th>2</th>\n      <td>0439339987</td>\n      <td>Grandma Groupers kelp seeds are missing and wi...</td>\n      <td>8.95</td>\n      <td>http://ecx.images-amazon.com/images/I/416QZg89...</td>\n      <td>{'also_bought': ['B000314VVU', 'B000PXUOTE', '...</td>\n      <td>{'Arts, Crafts &amp; Sewing': None, 'Beauty': None...</td>\n      <td>[[Video Games, PC, Games]]</td>\n      <td>None</td>\n      <td>None</td>\n    </tr>\n    <tr>\n      <th>3</th>\n      <td>0439342260</td>\n      <td>This software is BRAND NEW. Packaging may diff...</td>\n      <td>NaN</td>\n      <td>http://ecx.images-amazon.com/images/I/61Wvu-Uj...</td>\n      <td>{'also_bought': None, 'also_viewed': ['0439343...</td>\n      <td>{'Arts, Crafts &amp; Sewing': None, 'Beauty': None...</td>\n      <td>[[Video Games, PC, Games]]</td>\n      <td>None</td>\n      <td>None</td>\n    </tr>\n    <tr>\n      <th>4</th>\n      <td>0439339960</td>\n      <td>a scholastic clubs fairs cd rom game</td>\n      <td>NaN</td>\n      <td>http://ecx.images-amazon.com/images/I/51k3oRCF...</td>\n      <td>{'also_bought': None, 'also_viewed': ['B00028D...</td>\n      <td>{'Arts, Crafts &amp; Sewing': None, 'Beauty': None...</td>\n      <td>[[Video Games, PC, Games]]</td>\n      <td>None</td>\n      <td>None</td>\n    </tr>\n    <tr>\n      <th>5</th>\n      <td>0439374391</td>\n      <td>CD-ROM: Thomas &amp; Friends: The Great Festival A...</td>\n      <td>20.00</td>\n      <td>http://ecx.images-amazon.com/images/I/21MTRNJY...</td>\n      <td>{'also_bought': None, 'also_viewed': ['B00005Y...</td>\n      <td>{'Arts, Crafts &amp; Sewing': None, 'Beauty': None...</td>\n      <td>[[Video Games, PC, Games]]</td>\n      <td>None</td>\n      <td>None</td>\n    </tr>\n    <tr>\n      <th>6</th>\n      <td>0439394422</td>\n      <td>Product that encourages families to learn, exp...</td>\n      <td>12.96</td>\n      <td>http://ecx.images-amazon.com/images/I/51Zx2bIw...</td>\n      <td>{'also_bought': ['B0002667BI', 'B00005JKTY', '...</td>\n      <td>{'Arts, Crafts &amp; Sewing': None, 'Beauty': None...</td>\n      <td>[[Video Games, Mac, Games], [Video Games, PC, ...</td>\n      <td>None</td>\n      <td>None</td>\n    </tr>\n    <tr>\n      <th>7</th>\n      <td>043940133X</td>\n      <td>Your ship has crash-landed on the planet Tatoo...</td>\n      <td>30.00</td>\n      <td>http://ecx.images-amazon.com/images/I/51Gh39kq...</td>\n      <td>{'also_bought': None, 'also_viewed': ['0545077...</td>\n      <td>{'Arts, Crafts &amp; Sewing': None, 'Beauty': None...</td>\n      <td>[[Video Games, Mac, Games], [Video Games, PC, ...</td>\n      <td>None</td>\n      <td>None</td>\n    </tr>\n    <tr>\n      <th>8</th>\n      <td>0439573947</td>\n      <td>3 Great games in one box set!</td>\n      <td>10.79</td>\n      <td>http://ecx.images-amazon.com/images/I/514%2B24...</td>\n      <td>{'also_bought': ['B000RLM19A', 'B003R79HFW', '...</td>\n      <td>{'Arts, Crafts &amp; Sewing': None, 'Beauty': None...</td>\n      <td>[[Video Games, PC, Games]]</td>\n      <td>None</td>\n      <td>None</td>\n    </tr>\n    <tr>\n      <th>9</th>\n      <td>0439591295</td>\n      <td>cartoon network</td>\n      <td>NaN</td>\n      <td>http://ecx.images-amazon.com/images/I/51XQ-nAM...</td>\n      <td>None</td>\n      <td>{'Arts, Crafts &amp; Sewing': None, 'Beauty': None...</td>\n      <td>[[Video Games, PC, Games]]</td>\n      <td>None</td>\n      <td>None</td>\n    </tr>\n  </tbody>\n</table>\n</div>"
     },
     "metadata": {},
     "execution_count": 15
    }
   ],
   "source": [
    "#Read metadata from parquet and store it in a variable\n",
    "metadata = pd.read_parquet('metadata.parquet.gzip')\n",
    "metadata.head(10)"
   ]
  },
  {
   "cell_type": "code",
   "execution_count": null,
   "metadata": {},
   "outputs": [],
   "source": [
    "#Read full review data from parquet and store it in a variable\n",
    "allReviews = pd.read_parquet('all.parquet.gzip')\n",
    "allReviews.head(10)"
   ]
  },
  {
   "cell_type": "code",
   "execution_count": 16,
   "metadata": {},
   "outputs": [
    {
     "output_type": "execute_result",
     "data": {
      "text/plain": [
       "       reviewerID        asin                        reviewerName   helpful  \\\n",
       "0  A2HD75EMZR8QLN  0700099867                                 123   [8, 12]   \n",
       "1  A3UR8NLLY1ZHCX  0700099867  Alejandro Henao \"Electronic Junky\"    [0, 0]   \n",
       "2  A1INA0F5CWW3J4  0700099867          Amazon Shopper \"Mr.Repsol\"    [0, 0]   \n",
       "3  A1DLMTOTHQ4AST  0700099867                            ampgreen   [7, 10]   \n",
       "4  A361M14PU2GUEG  0700099867        Angry Ryan \"Ryan A. Forrest\"    [2, 2]   \n",
       "5  A2UTRVO4FDCBH6  0700099867                              A.R.G.    [0, 0]   \n",
       "6   AN3YYDZAS3O1Y  0700099867                                 Bob  [11, 13]   \n",
       "7   AQTC623NCESZW  0700099867                       Chesty Puller    [1, 4]   \n",
       "8  A1QJJU33VNC4S7  0700099867                              D@rkFX    [0, 1]   \n",
       "9  A2JLT2WY0F2HVI  0700099867                       D. Sweetapple    [1, 1]   \n",
       "\n",
       "                                          reviewText  overall  \\\n",
       "0  Installing the game was a struggle (because of...      1.0   \n",
       "1  If you like rally cars get this game you will ...      4.0   \n",
       "2  1st shipment received a book instead of the ga...      1.0   \n",
       "3  I got this version instead of the PS3 version,...      3.0   \n",
       "4  I had Dirt 2 on Xbox 360 and it was an okay ga...      4.0   \n",
       "5  Overall this is a well done racing game, with ...      4.0   \n",
       "6  Loved playing Dirt 2 and I thought the graphic...      5.0   \n",
       "7  I can't tell you what a piece of dog**** this ...      1.0   \n",
       "8  I initially gave this one star because it was ...      4.0   \n",
       "9  I still haven't figured this one out. Did ever...      2.0   \n",
       "\n",
       "                                             summary  unixReviewTime  \\\n",
       "0           Pay to unlock content? I don't think so.      1341792000   \n",
       "1                                    Good rally game      1372550400   \n",
       "2                                          Wrong key      1403913600   \n",
       "3    awesome game, if it did not crash frequently !!      1315958400   \n",
       "4                                             DIRT 3      1308009600   \n",
       "5  Good racing game, terrible Windows Live Requir...      1368230400   \n",
       "6        A step up from Dirt 2 and that is terrific!      1313280000   \n",
       "7              Crash 3 is correct name AKA Microsoft      1353715200   \n",
       "8  A great game ruined by Microsoft's account man...      1352851200   \n",
       "9                      Couldn't get this one to work      1391817600   \n",
       "\n",
       "    reviewTime  \n",
       "0   07 9, 2012  \n",
       "1  06 30, 2013  \n",
       "2  06 28, 2014  \n",
       "3  09 14, 2011  \n",
       "4  06 14, 2011  \n",
       "5  05 11, 2013  \n",
       "6  08 14, 2011  \n",
       "7  11 24, 2012  \n",
       "8  11 14, 2012  \n",
       "9   02 8, 2014  "
      ],
      "text/html": "<div>\n<style scoped>\n    .dataframe tbody tr th:only-of-type {\n        vertical-align: middle;\n    }\n\n    .dataframe tbody tr th {\n        vertical-align: top;\n    }\n\n    .dataframe thead th {\n        text-align: right;\n    }\n</style>\n<table border=\"1\" class=\"dataframe\">\n  <thead>\n    <tr style=\"text-align: right;\">\n      <th></th>\n      <th>reviewerID</th>\n      <th>asin</th>\n      <th>reviewerName</th>\n      <th>helpful</th>\n      <th>reviewText</th>\n      <th>overall</th>\n      <th>summary</th>\n      <th>unixReviewTime</th>\n      <th>reviewTime</th>\n    </tr>\n  </thead>\n  <tbody>\n    <tr>\n      <th>0</th>\n      <td>A2HD75EMZR8QLN</td>\n      <td>0700099867</td>\n      <td>123</td>\n      <td>[8, 12]</td>\n      <td>Installing the game was a struggle (because of...</td>\n      <td>1.0</td>\n      <td>Pay to unlock content? I don't think so.</td>\n      <td>1341792000</td>\n      <td>07 9, 2012</td>\n    </tr>\n    <tr>\n      <th>1</th>\n      <td>A3UR8NLLY1ZHCX</td>\n      <td>0700099867</td>\n      <td>Alejandro Henao \"Electronic Junky\"</td>\n      <td>[0, 0]</td>\n      <td>If you like rally cars get this game you will ...</td>\n      <td>4.0</td>\n      <td>Good rally game</td>\n      <td>1372550400</td>\n      <td>06 30, 2013</td>\n    </tr>\n    <tr>\n      <th>2</th>\n      <td>A1INA0F5CWW3J4</td>\n      <td>0700099867</td>\n      <td>Amazon Shopper \"Mr.Repsol\"</td>\n      <td>[0, 0]</td>\n      <td>1st shipment received a book instead of the ga...</td>\n      <td>1.0</td>\n      <td>Wrong key</td>\n      <td>1403913600</td>\n      <td>06 28, 2014</td>\n    </tr>\n    <tr>\n      <th>3</th>\n      <td>A1DLMTOTHQ4AST</td>\n      <td>0700099867</td>\n      <td>ampgreen</td>\n      <td>[7, 10]</td>\n      <td>I got this version instead of the PS3 version,...</td>\n      <td>3.0</td>\n      <td>awesome game, if it did not crash frequently !!</td>\n      <td>1315958400</td>\n      <td>09 14, 2011</td>\n    </tr>\n    <tr>\n      <th>4</th>\n      <td>A361M14PU2GUEG</td>\n      <td>0700099867</td>\n      <td>Angry Ryan \"Ryan A. Forrest\"</td>\n      <td>[2, 2]</td>\n      <td>I had Dirt 2 on Xbox 360 and it was an okay ga...</td>\n      <td>4.0</td>\n      <td>DIRT 3</td>\n      <td>1308009600</td>\n      <td>06 14, 2011</td>\n    </tr>\n    <tr>\n      <th>5</th>\n      <td>A2UTRVO4FDCBH6</td>\n      <td>0700099867</td>\n      <td>A.R.G.</td>\n      <td>[0, 0]</td>\n      <td>Overall this is a well done racing game, with ...</td>\n      <td>4.0</td>\n      <td>Good racing game, terrible Windows Live Requir...</td>\n      <td>1368230400</td>\n      <td>05 11, 2013</td>\n    </tr>\n    <tr>\n      <th>6</th>\n      <td>AN3YYDZAS3O1Y</td>\n      <td>0700099867</td>\n      <td>Bob</td>\n      <td>[11, 13]</td>\n      <td>Loved playing Dirt 2 and I thought the graphic...</td>\n      <td>5.0</td>\n      <td>A step up from Dirt 2 and that is terrific!</td>\n      <td>1313280000</td>\n      <td>08 14, 2011</td>\n    </tr>\n    <tr>\n      <th>7</th>\n      <td>AQTC623NCESZW</td>\n      <td>0700099867</td>\n      <td>Chesty Puller</td>\n      <td>[1, 4]</td>\n      <td>I can't tell you what a piece of dog**** this ...</td>\n      <td>1.0</td>\n      <td>Crash 3 is correct name AKA Microsoft</td>\n      <td>1353715200</td>\n      <td>11 24, 2012</td>\n    </tr>\n    <tr>\n      <th>8</th>\n      <td>A1QJJU33VNC4S7</td>\n      <td>0700099867</td>\n      <td>D@rkFX</td>\n      <td>[0, 1]</td>\n      <td>I initially gave this one star because it was ...</td>\n      <td>4.0</td>\n      <td>A great game ruined by Microsoft's account man...</td>\n      <td>1352851200</td>\n      <td>11 14, 2012</td>\n    </tr>\n    <tr>\n      <th>9</th>\n      <td>A2JLT2WY0F2HVI</td>\n      <td>0700099867</td>\n      <td>D. Sweetapple</td>\n      <td>[1, 1]</td>\n      <td>I still haven't figured this one out. Did ever...</td>\n      <td>2.0</td>\n      <td>Couldn't get this one to work</td>\n      <td>1391817600</td>\n      <td>02 8, 2014</td>\n    </tr>\n  </tbody>\n</table>\n</div>"
     },
     "metadata": {},
     "execution_count": 16
    }
   ],
   "source": [
    "#Read 5-Core Reviews data from parquet and store it in a variable\n",
    "fiveCoreReviews = pd.read_parquet('fiveCore.parquet.gzip')\n",
    "fiveCoreReviews.head(10)"
   ]
  },
  {
   "cell_type": "code",
   "execution_count": 59,
   "metadata": {},
   "outputs": [
    {
     "output_type": "stream",
     "name": "stdout",
     "text": [
      "All reviews: reviewerID        1324753\n",
      "asin              1324753\n",
      "reviewerName      1298568\n",
      "helpful           1324753\n",
      "reviewText        1324753\n",
      "overall           1324753\n",
      "summary           1324753\n",
      "unixReviewTime    1324753\n",
      "reviewTime        1324753\n",
      "dtype: int64\n",
      "5-Core reviews: reviewerID        231780\n",
      "asin              231780\n",
      "reviewerName      228967\n",
      "helpful           231780\n",
      "reviewText        231780\n",
      "overall           231780\n",
      "summary           231780\n",
      "unixReviewTime    231780\n",
      "reviewTime        231780\n",
      "dtype: int64\n",
      "All reviews: 1324753\n",
      "All users: 826767\n"
     ]
    }
   ],
   "source": [
    "#Check the number of reviews and number of users from all reviews dataset\n",
    "print (\"All reviews:\", allReviews.count())\n",
    "print (\"5-Core reviews:\", fiveCoreReviews.count())\n",
    "#The total number of  in this dataset\n",
    "print (\"All reviews:\", allReviews['reviewerID'].size)\n",
    "#The total number of unique users with at least a review \n",
    "print (\"All users:\", allReviews['reviewerID'].unique().size)\n",
    "\n",
    "#some reviewerName are missing, everything else is 1324753 but reviewerName is only 1298568\n",
    "\n"
   ]
  },
  {
   "cell_type": "code",
   "execution_count": 58,
   "metadata": {},
   "outputs": [
    {
     "output_type": "execute_result",
     "data": {
      "text/plain": [
       "<bound method Series.unique of 0                         [[Video Games, Xbox 360, Games]]\n",
       "1                               [[Video Games, PC, Games]]\n",
       "2                               [[Video Games, PC, Games]]\n",
       "3                               [[Video Games, PC, Games]]\n",
       "4                               [[Video Games, PC, Games]]\n",
       "                               ...                        \n",
       "50948    [[Video Games, Digital Games, Casual Games], [...\n",
       "50949    [[Video Games, PC, Accessories, Gaming Keyboar...\n",
       "50950    [[Video Games, PC, Accessories, Gaming Keyboar...\n",
       "50951    [[Video Games, Digital Games, Casual Games], [...\n",
       "50952    [[Video Games, Digital Games, Casual Games], [...\n",
       "Name: categories, Length: 50953, dtype: object>"
      ]
     },
     "metadata": {},
     "execution_count": 58
    }
   ],
   "source": [
    "metadata.categories.unique"
   ]
  },
  {
   "cell_type": "code",
   "execution_count": null,
   "metadata": {},
   "outputs": [],
   "source": []
  }
 ]
}